{
 "cells": [
  {
   "cell_type": "code",
   "execution_count": 17,
   "id": "dffc6124",
   "metadata": {},
   "outputs": [
    {
     "name": "stdout",
     "output_type": "stream",
     "text": [
      "['name', 'carbon_percentage', 'nitrogen_percentage', 'moisture_percentage', 'aeration', 'biodegradability', 'possessed']\n",
      "        name  carbon_percentage  nitrogen_percentage  moisture_percentage  \\\n",
      "0     leaves            0.40000               0.0050                 0.38   \n",
      "1      paper            0.38125               0.0025                 0.19   \n",
      "2  cardboard            0.56300               0.0010                 0.08   \n",
      "3  trimmings            0.53000               0.0100                 0.15   \n",
      "\n",
      "   aeration  biodegradability  possessed  \n",
      "0       2.0                 2          3  \n",
      "1       1.5                 4         10  \n",
      "2       5.0                 5          7  \n",
      "3       4.0                 3          7  \n",
      "<__main__.Material object at 0x000001C292329AF0>\n",
      "<__main__.Material object at 0x000001C29234DE80>\n",
      "<__main__.Material object at 0x000001C29234D670>\n",
      "<__main__.Material object at 0x000001C29234DDF0>\n"
     ]
    }
   ],
   "source": [
    "import pandas as pd\n",
    "\n",
    "RATING_VARIABLES = [\"aeration\", \"biodegradability\", \"possessed\"]\n",
    "\n",
    "class Material:\n",
    "    def __init__(self, name, carbon_percentage, nitrogen_percentage, moisture_percentage, aeration, biodegradability,\n",
    "                 possessed):\n",
    "        self.name = name\n",
    "        self.weight = 1\n",
    "\n",
    "        # Material data\n",
    "        self.carbon_percentage = carbon_percentage\n",
    "        self.nitrogen_percentage = nitrogen_percentage\n",
    "        self.moisture_percentage = moisture_percentage\n",
    "        self.dry_percentage = 1 - self.moisture_percentage\n",
    "\n",
    "        # Rating System data\n",
    "        self.aeration = aeration\n",
    "        self.biodegradability = biodegradability\n",
    "        self.possessed = possessed\n",
    "        \n",
    "        def __str__(self):\n",
    "            string = \"Material object; \" + \\\n",
    "                \"Name: \" + self.name + \"; \" + \\\n",
    "                \"Carbon Percentage: \" + self.carbon_percentage + \"; \" + \\\n",
    "                \"Nitrogen Percentage: \" + self.nitrogen_percentage + \"; \" + \\\n",
    "                \"Moisture Percentage: \" + self.moisture_percentage + \"; \" + \\\n",
    "                \"Aeration: \" + self.aeration + \"; \" + \\\n",
    "                \"Biodegradability: \" + self.biodegradability + \"; \" + \\\n",
    "                \"Possessed: \" + self.possessed + \"; \"\n",
    "            return string\n",
    "\n",
    "column_names = [\"name\", \"carbon_percentage\", \"nitrogen_percentage\", \"moisture_percentage\"] + RATING_VARIABLES\n",
    "print(column_names)\n",
    "\n",
    "data = pd.read_csv(\"browns.dat\", sep=\" \", skiprows=1, names = column_names)\n",
    "print(data)\n",
    "\n",
    "all_materials = []\n",
    "\n",
    "for idx, row in enumerate(data[\"name\"]):\n",
    "    name = row\n",
    "    carbon_percentage = data[\"carbon_percentage\"][idx]\n",
    "    nitrogen_percentage = data[\"nitrogen_percentage\"][idx]\n",
    "    moisture_percentage = data[\"moisture_percentage\"][idx]\n",
    "    aeration = data[\"aeration\"][idx]\n",
    "    biodegradability = data[\"biodegradability\"][idx]\n",
    "    possessed = data[\"possessed\"][idx]\n",
    "\n",
    "\n",
    "    all_materials.append(Material(name, carbon_percentage, nitrogen_percentage, moisture_percentage, aeration, biodegradability,\n",
    "                 possessed))\n",
    "for i in range(len(all_materials)):\n",
    "    print(str(all_materials[i]))\n"
   ]
  },
  {
   "cell_type": "code",
   "execution_count": 19,
   "id": "118904dc",
   "metadata": {},
   "outputs": [
    {
     "name": "stdout",
     "output_type": "stream",
     "text": [
      "0\n",
      "1\n",
      "2\n",
      "3\n",
      "4\n",
      "5\n",
      "6\n",
      "7\n",
      "8\n",
      "9\n"
     ]
    }
   ],
   "source": [
    "for i in range(10):\n",
    "    print(i)\n",
    "    if i == 6:\n",
    "        i = 9"
   ]
  },
  {
   "cell_type": "code",
   "execution_count": 21,
   "id": "d2d36427",
   "metadata": {},
   "outputs": [
    {
     "name": "stdout",
     "output_type": "stream",
     "text": [
      "0\n",
      "1\n",
      "2\n",
      "6\n",
      "7\n",
      "8\n",
      "9\n"
     ]
    }
   ],
   "source": [
    "from itertools import islice\n",
    "\n",
    "numbers = iter(range(10))\n",
    "for i in numbers:\n",
    "    print(i)\n",
    "    if i == 2:\n",
    "        next(islice(numbers, 3, 3), None)  # consume 3\n"
   ]
  },
  {
   "cell_type": "code",
   "execution_count": null,
   "id": "5b976b3c",
   "metadata": {},
   "outputs": [],
   "source": []
  }
 ],
 "metadata": {
  "kernelspec": {
   "display_name": "Python 3 (ipykernel)",
   "language": "python",
   "name": "python3"
  },
  "language_info": {
   "codemirror_mode": {
    "name": "ipython",
    "version": 3
   },
   "file_extension": ".py",
   "mimetype": "text/x-python",
   "name": "python",
   "nbconvert_exporter": "python",
   "pygments_lexer": "ipython3",
   "version": "3.9.12"
  }
 },
 "nbformat": 4,
 "nbformat_minor": 5
}
